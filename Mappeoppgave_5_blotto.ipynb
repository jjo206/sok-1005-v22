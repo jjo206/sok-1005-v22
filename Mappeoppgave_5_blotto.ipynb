{
 "cells": [
  {
   "cell_type": "code",
   "execution_count": 3,
   "metadata": {},
   "outputs": [],
   "source": [
    "import numpy as np\n",
    "def jjo_strat(n_battalions,n_fields):\n",
    "    \n",
    "    battalions=np.zeros(n_fields,dtype=int)\n",
    "    \n",
    "    #setter opp strattegien min\n",
    "    battalions[0:]=1\n",
    "    battalions[1:]=1\n",
    "    battalions[2:]=32\n",
    "    battalions[3:]=32\n",
    "    battalions[4:]=32\n",
    "    battalions[5:]=2\n",
    "\n",
    "    battalions=battalions[np.random.rand(n_fields).argsort()]\n",
    "    assert sum(battalions)==n_battalions\n",
    "    \n",
    "    return battalions"
   ]
  },
  {
   "cell_type": "code",
   "execution_count": 4,
   "metadata": {},
   "outputs": [],
   "source": [
    "def computer_strategy(n_battalions,n_fields):\n",
    "    battalions=np.zeros(n_fields,dtype=int)\n",
    "    battalions[0:1]=8\n",
    "    battalions[1:4]=30\n",
    "    battalions[4:]=1\n",
    "    assert sum(battalions)==n_battalions\n",
    "    return battalions"
   ]
  },
  {
   "cell_type": "code",
   "execution_count": 5,
   "metadata": {},
   "outputs": [],
   "source": [
    "def call_battle(n_battalions,n_fields, player_strategy, computer_strategy):\n",
    "    c_battlions=computer_strategy(n_battalions,n_fields)\n",
    "    p_battlions=player_strategy(n_battalions,n_fields)\n",
    "\n",
    "    diff=p_battlions-c_battlions\n",
    "    points=sum(diff>0)-sum(diff<0)\n",
    " \n",
    "    return int(points>0)-int(points<0)"
   ]
  },
  {
   "cell_type": "code",
   "execution_count": 6,
   "metadata": {},
   "outputs": [
    {
     "data": {
      "text/plain": [
       "0.80164"
      ]
     },
     "execution_count": 6,
     "metadata": {},
     "output_type": "execute_result"
    }
   ],
   "source": [
    "def test_strategies(n_fields,n_battalions,player_strategy, computer_strategy):\n",
    "    n_tests=100000\n",
    "    r=0\n",
    "    record=[]\n",
    "    for i in range(n_tests):\n",
    "        p=call_battle(n_battalions,n_fields,\n",
    "            player_strategy, computer_strategy)\n",
    "        record.append(p)\n",
    "        r+=p\n",
    "    return r/n_tests\n",
    "\n",
    "test_strategies(6,100,jjo_strat, computer_strategy)"
   ]
  }
 ],
 "metadata": {
  "interpreter": {
   "hash": "f80bf3bc26fad372f50b9dc3f5880e79d0140939e3d243135c3469ce975d3ea3"
  },
  "kernelspec": {
   "display_name": "Python 3.10.2 64-bit (system)",
   "language": "python",
   "name": "python3"
  },
  "language_info": {
   "codemirror_mode": {
    "name": "ipython",
    "version": 3
   },
   "file_extension": ".py",
   "mimetype": "text/x-python",
   "name": "python",
   "nbconvert_exporter": "python",
   "pygments_lexer": "ipython3",
   "version": "3.10.2"
  },
  "orig_nbformat": 4
 },
 "nbformat": 4,
 "nbformat_minor": 2
}
